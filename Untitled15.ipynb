{
 "cells": [
  {
   "cell_type": "markdown",
   "id": "db89caf8-8fbb-4f63-b12f-69087f0ad838",
   "metadata": {},
   "source": [
    "Q1. What is the Filter method in feature selection, and how does it work?"
   ]
  },
  {
   "cell_type": "markdown",
   "id": "612c3a7b-75aa-4003-aa1b-24c0d4733cbb",
   "metadata": {},
   "source": [
    "Answer-The Filter method in feature selection involves evaluating the relevance of features independently of the machine learning algorithm being used. It works by applying statistical measures to each feature individually and selecting those features that meet certain criteria, such as correlation with the target variable or variance."
   ]
  },
  {
   "cell_type": "markdown",
   "id": "1b71ac11-267a-40fc-9c74-3e26532e4132",
   "metadata": {},
   "source": [
    "Q2. How does the Wrapper method differ from the Filter method in feature selection?"
   ]
  },
  {
   "cell_type": "markdown",
   "id": "add853cd-ccb2-45a1-8fc6-ed775b874b7d",
   "metadata": {},
   "source": [
    "Answer-The Wrapper method differs from the Filter method in that it evaluates the performance of different subsets of features by training and testing the machine learning algorithm iteratively. It typically uses a specific evaluation metric to determine the quality of feature subsets and selects the best-performing subset."
   ]
  },
  {
   "cell_type": "markdown",
   "id": "c1e14fb7-ba15-4ba5-899e-bf6f1f3e94ee",
   "metadata": {},
   "source": [
    "Q3. What are some common techniques used in Embedded feature selection methods?"
   ]
  },
  {
   "cell_type": "markdown",
   "id": "e9319caf-7cdc-42cd-80df-052e74334e77",
   "metadata": {},
   "source": [
    "Answer- Some common techniques used in Embedded feature selection methods include:\n",
    "\n",
    "Lasso (L1 regularization)\n",
    "Ridge (L2 regularization)\n",
    "Elastic Net\n",
    "Decision Trees with feature importance"
   ]
  },
  {
   "cell_type": "markdown",
   "id": "7b2aa3c8-64b0-48c8-8609-5096dec54e49",
   "metadata": {},
   "source": [
    "Q4. What are some drawbacks of using the Filter method for feature selection?"
   ]
  },
  {
   "cell_type": "markdown",
   "id": "19949d5f-cf8d-41cb-985e-9a44fcdcd83b",
   "metadata": {},
   "source": [
    "Answer- Drawbacks of using the Filter method for feature selection include:\n",
    "\n",
    "It may overlook the relationships between features.\n",
    "It may select redundant or irrelevant features if they have high individual predictive power but low predictive power when combined with other features.\n",
    "It does not consider the interaction between features."
   ]
  },
  {
   "cell_type": "markdown",
   "id": "ccf63bb6-944f-42e8-ac24-f4eb9a88da2e",
   "metadata": {},
   "source": [
    "Q5. In which situations would you prefer using the Filter method over the Wrapper method for feature\n",
    "selection?"
   ]
  },
  {
   "cell_type": "markdown",
   "id": "b818565d-1a8e-4bfb-93ac-9454de2139e8",
   "metadata": {},
   "source": [
    "Answer-The Filter method may be preferred over the Wrapper method for feature selection in situations where:\n",
    "\n",
    "There is a large number of features, and computational resources are limited.\n",
    "The relationships between features and the target variable are relatively simple and can be captured adequately by individual feature evaluation metrics.\n",
    "The focus is on quickly identifying a subset of potentially relevant features for further analysis."
   ]
  },
  {
   "cell_type": "markdown",
   "id": "7a949d5b-342f-40cb-b8fa-5e121a4266c5",
   "metadata": {},
   "source": [
    "Q5. In which situations would you prefer using the Filter method over the Wrapper method for feature\n",
    "selection?"
   ]
  },
  {
   "cell_type": "markdown",
   "id": "e0c4b994-d1a3-495b-86e7-ec67915bf316",
   "metadata": {},
   "source": [
    "Answer- To choose the most pertinent attributes for the customer churn predictive model using the Filter Method in the telecom company project:\n",
    "\n",
    "Compute statistical measures such as correlation coefficients or mutual information scores between each feature and the target variable (customer churn).\n",
    "Select features that exhibit strong relationships with the target variable based on the chosen metric.\n",
    "Consider additional domain knowledge or business insights to further refine the selection if necessary."
   ]
  },
  {
   "cell_type": "markdown",
   "id": "75d7f11d-ba82-488a-ae03-78a53d60a8ff",
   "metadata": {},
   "source": [
    "Q7. You are working on a project to predict the outcome of a soccer match. You have a large dataset with\n",
    "many features, including player statistics and team rankings. Explain how you would use the Embedded\n",
    "method to select the most relevant features for the model."
   ]
  },
  {
   "cell_type": "markdown",
   "id": "d8acb5f1-a190-4a82-947e-0f00912674ec",
   "metadata": {},
   "source": [
    "Answer- To use the Embedded method to select the most relevant features for predicting the outcome of a soccer match:\n",
    "\n",
    "Train a machine learning algorithm (such as a logistic regression or random forest) on the entire dataset, including all features.\n",
    "Use feature importance scores provided by the algorithm to identify the most relevant features.\n",
    "Select the top features based on their importance scores and discard less relevant features.\n",
    "Fine-tune the model and feature selection process as needed based on performance metrics and domain knowledge."
   ]
  },
  {
   "cell_type": "markdown",
   "id": "6513fc0b-af08-4e59-9241-71218011f515",
   "metadata": {},
   "source": [
    "Q8. You are working on a project to predict the price of a house based on its features, such as size, location,\n",
    "and age. You have a limited number of features, and you want to ensure that you select the most important\n",
    "ones for the model. Explain how you would use the Wrapper method to select the best set of features for the\n",
    "predictor."
   ]
  },
  {
   "cell_type": "code",
   "execution_count": null,
   "id": "142fd2ee-d60a-4756-b6ad-562868f43c6f",
   "metadata": {},
   "outputs": [],
   "source": []
  },
  {
   "cell_type": "code",
   "execution_count": null,
   "id": "aab1de73-eced-457f-aa2a-96731282e264",
   "metadata": {},
   "outputs": [],
   "source": []
  },
  {
   "cell_type": "code",
   "execution_count": null,
   "id": "5329fc01-3cf2-40e0-8105-feeabe15eb1e",
   "metadata": {},
   "outputs": [],
   "source": []
  }
 ],
 "metadata": {
  "kernelspec": {
   "display_name": "Python 3 (ipykernel)",
   "language": "python",
   "name": "python3"
  },
  "language_info": {
   "codemirror_mode": {
    "name": "ipython",
    "version": 3
   },
   "file_extension": ".py",
   "mimetype": "text/x-python",
   "name": "python",
   "nbconvert_exporter": "python",
   "pygments_lexer": "ipython3",
   "version": "3.12.2"
  }
 },
 "nbformat": 4,
 "nbformat_minor": 5
}
